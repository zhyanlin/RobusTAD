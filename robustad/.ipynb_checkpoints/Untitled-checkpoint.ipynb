{
 "cells": [
  {
   "cell_type": "code",
   "execution_count": 1,
   "id": "1c7456bc-bfd3-4fd7-a5d6-3b2e9f9878f4",
   "metadata": {},
   "outputs": [],
   "source": [
    "import numpy as np"
   ]
  },
  {
   "cell_type": "code",
   "execution_count": 17,
   "id": "d4239ca9-b4ef-4702-bf7f-450f6b570ad4",
   "metadata": {},
   "outputs": [
    {
     "data": {
      "text/plain": [
       "((3573, 3583), (3562, 3573), (3562, 3579))"
      ]
     },
     "execution_count": 17,
     "metadata": {},
     "output_type": "execute_result"
    }
   ],
   "source": [
    "a=[(3573, 3583),(3562, 3573),(3573, 3583),(3562, 3579)]\n",
    "a = tuple(dict.fromkeys(a))\n",
    "\n",
    "a"
   ]
  },
  {
   "cell_type": "code",
   "execution_count": 18,
   "id": "7b084c6f-a2cf-4855-9fca-508bcc3d1f0e",
   "metadata": {},
   "outputs": [],
   "source": [
    "x={}\n",
    "x[a]=1"
   ]
  },
  {
   "cell_type": "code",
   "execution_count": null,
   "id": "ff720ac0-56f0-4de8-b79d-1bfb6b7c882a",
   "metadata": {},
   "outputs": [],
   "source": []
  }
 ],
 "metadata": {
  "kernelspec": {
   "display_name": "Python 3",
   "language": "python",
   "name": "python3"
  },
  "language_info": {
   "codemirror_mode": {
    "name": "ipython",
    "version": 3
   },
   "file_extension": ".py",
   "mimetype": "text/x-python",
   "name": "python",
   "nbconvert_exporter": "python",
   "pygments_lexer": "ipython3",
   "version": "3.7.12"
  }
 },
 "nbformat": 4,
 "nbformat_minor": 5
}
